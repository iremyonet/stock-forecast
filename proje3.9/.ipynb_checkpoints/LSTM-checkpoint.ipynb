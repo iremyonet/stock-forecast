{
 "cells": [
  {
   "cell_type": "code",
   "execution_count": 1,
   "metadata": {},
   "outputs": [],
   "source": [
    "import warnings\n",
    "import pandas as pd\n",
    "import numpy as np\n",
    "import matplotlib.pyplot as plt\n",
    "from sklearn.metrics import mean_squared_error, mean_absolute_error, explained_variance_score, r2_score\n",
    "from sklearn.metrics import mean_poisson_deviance, mean_gamma_deviance, accuracy_score\n",
    "from sklearn.preprocessing import MinMaxScaler\n",
    "import tensorflow as tf\n",
    "from tensorflow.keras.models import Sequential\n",
    "from tensorflow.keras.layers import Dense, Dropout\n",
    "from tensorflow.keras.layers import LSTM\n",
    "from tensorflow.keras.callbacks import ModelCheckpoint, EarlyStopping\n",
    "from tensorflow.keras.models import load_model\n",
    "import math"
   ]
  },
  {
   "cell_type": "code",
   "execution_count": 2,
   "metadata": {},
   "outputs": [],
   "source": [
    "warnings.filterwarnings('ignore')"
   ]
  },
  {
   "cell_type": "markdown",
   "metadata": {},
   "source": [
    "from itertools import product<br>\n",
    "import statsmodels.api as sm<br>\n",
    "from itertools import cycle<br>\n",
    "import plotly.offline as py<br>\n",
    "import plotly.graph_objects as go<br>\n",
    "import plotly.express as px<br>\n",
    "from plotly.subplots import make_subplots<br>\n",
    "import math<br>\n",
    "import datetime as dt<br>\n",
    "import os"
   ]
  },
  {
   "cell_type": "code",
   "execution_count": 3,
   "metadata": {},
   "outputs": [
    {
     "data": {
      "text/html": [
       "<div>\n",
       "<style scoped>\n",
       "    .dataframe tbody tr th:only-of-type {\n",
       "        vertical-align: middle;\n",
       "    }\n",
       "\n",
       "    .dataframe tbody tr th {\n",
       "        vertical-align: top;\n",
       "    }\n",
       "\n",
       "    .dataframe thead th {\n",
       "        text-align: right;\n",
       "    }\n",
       "</style>\n",
       "<table border=\"1\" class=\"dataframe\">\n",
       "  <thead>\n",
       "    <tr style=\"text-align: right;\">\n",
       "      <th></th>\n",
       "      <th>Date</th>\n",
       "      <th>Open</th>\n",
       "      <th>High</th>\n",
       "      <th>Low</th>\n",
       "      <th>Close</th>\n",
       "      <th>Adj_Close</th>\n",
       "      <th>Volume</th>\n",
       "    </tr>\n",
       "  </thead>\n",
       "  <tbody>\n",
       "    <tr>\n",
       "      <th>0</th>\n",
       "      <td>2005-11-30</td>\n",
       "      <td>2.935833</td>\n",
       "      <td>3.027500</td>\n",
       "      <td>2.935000</td>\n",
       "      <td>3.012500</td>\n",
       "      <td>2.765436</td>\n",
       "      <td>57544800</td>\n",
       "    </tr>\n",
       "    <tr>\n",
       "      <th>1</th>\n",
       "      <td>2005-12-01</td>\n",
       "      <td>3.037500</td>\n",
       "      <td>3.062500</td>\n",
       "      <td>3.005000</td>\n",
       "      <td>3.048333</td>\n",
       "      <td>2.798330</td>\n",
       "      <td>56203200</td>\n",
       "    </tr>\n",
       "    <tr>\n",
       "      <th>2</th>\n",
       "      <td>2005-12-02</td>\n",
       "      <td>3.062500</td>\n",
       "      <td>3.070000</td>\n",
       "      <td>3.008333</td>\n",
       "      <td>3.049167</td>\n",
       "      <td>2.799096</td>\n",
       "      <td>33447600</td>\n",
       "    </tr>\n",
       "    <tr>\n",
       "      <th>3</th>\n",
       "      <td>2005-12-05</td>\n",
       "      <td>3.055833</td>\n",
       "      <td>3.055833</td>\n",
       "      <td>2.982500</td>\n",
       "      <td>2.992500</td>\n",
       "      <td>2.747076</td>\n",
       "      <td>38770800</td>\n",
       "    </tr>\n",
       "    <tr>\n",
       "      <th>4</th>\n",
       "      <td>2005-12-06</td>\n",
       "      <td>2.997500</td>\n",
       "      <td>3.045833</td>\n",
       "      <td>2.993333</td>\n",
       "      <td>3.005000</td>\n",
       "      <td>2.758551</td>\n",
       "      <td>37525200</td>\n",
       "    </tr>\n",
       "  </tbody>\n",
       "</table>\n",
       "</div>"
      ],
      "text/plain": [
       "         Date      Open      High       Low     Close  Adj_Close    Volume\n",
       "0  2005-11-30  2.935833  3.027500  2.935000  3.012500   2.765436  57544800\n",
       "1  2005-12-01  3.037500  3.062500  3.005000  3.048333   2.798330  56203200\n",
       "2  2005-12-02  3.062500  3.070000  3.008333  3.049167   2.799096  33447600\n",
       "3  2005-12-05  3.055833  3.055833  2.982500  2.992500   2.747076  38770800\n",
       "4  2005-12-06  2.997500  3.045833  2.993333  3.005000   2.758551  37525200"
      ]
     },
     "execution_count": 3,
     "metadata": {},
     "output_type": "execute_result"
    }
   ],
   "source": [
    "plt.style.use('seaborn-darkgrid')\n",
    "dolar_data_set = pd.read_csv(\"NVDA.csv\")\n",
    "group = dolar_data_set[['Close']]\n",
    "dolar_data_set.head()"
   ]
  },
  {
   "cell_type": "code",
   "execution_count": 4,
   "metadata": {},
   "outputs": [],
   "source": [
    "prediction_days = 1000"
   ]
  },
  {
   "cell_type": "code",
   "execution_count": 5,
   "metadata": {},
   "outputs": [],
   "source": [
    "df_train = group[:len(group) - prediction_days].values.reshape(-1, 1)\n",
    "df_test = group[len(group) - prediction_days:].values.reshape(-1, 1)"
   ]
  },
  {
   "cell_type": "code",
   "execution_count": 6,
   "metadata": {},
   "outputs": [],
   "source": [
    "chosen_col = 'Close'"
   ]
  },
  {
   "cell_type": "code",
   "execution_count": 7,
   "metadata": {},
   "outputs": [],
   "source": [
    "scaler_train = MinMaxScaler(feature_range=(0, 1))\n",
    "scaled_train = scaler_train.fit_transform(df_train)"
   ]
  },
  {
   "cell_type": "code",
   "execution_count": 8,
   "metadata": {},
   "outputs": [],
   "source": [
    "scaler_test = MinMaxScaler(feature_range=(0, 1))\n",
    "scaled_test = scaler_test.fit_transform(df_test)"
   ]
  },
  {
   "cell_type": "code",
   "execution_count": 9,
   "metadata": {},
   "outputs": [],
   "source": [
    "def dataset_generator_lstm(dataset, look_back=5):\n",
    "    dataX, dataY = [], []\n",
    "    for i in range(len(dataset) - look_back):\n",
    "        window_size_x = dataset[i:(i + look_back), 0]\n",
    "        dataX.append(window_size_x)\n",
    "        dataY.append(dataset[i + look_back, 0])\n",
    "    return np.array(dataX), np.array(dataY)"
   ]
  },
  {
   "cell_type": "code",
   "execution_count": 10,
   "metadata": {},
   "outputs": [],
   "source": [
    "trainX, trainY = dataset_generator_lstm(scaled_train)"
   ]
  },
  {
   "cell_type": "code",
   "execution_count": 11,
   "metadata": {},
   "outputs": [],
   "source": [
    "testX, testY = dataset_generator_lstm(scaled_test)"
   ]
  },
  {
   "cell_type": "code",
   "execution_count": 12,
   "metadata": {},
   "outputs": [],
   "source": [
    "trainX = np.reshape(trainX, (trainX.shape[0], trainX.shape[1], 1))"
   ]
  },
  {
   "cell_type": "code",
   "execution_count": 13,
   "metadata": {},
   "outputs": [],
   "source": [
    "testX = np.reshape(testX, (testX.shape[0], testX.shape[1], 1))"
   ]
  },
  {
   "cell_type": "code",
   "execution_count": 14,
   "metadata": {},
   "outputs": [
    {
     "name": "stdout",
     "output_type": "stream",
     "text": [
      "Model: \"sequential\"\n",
      "_________________________________________________________________\n",
      " Layer (type)                Output Shape              Param #   \n",
      "=================================================================\n",
      " lstm (LSTM)                 (None, 5, 128)            66560     \n",
      "                                                                 \n",
      " dropout (Dropout)           (None, 5, 128)            0         \n",
      "                                                                 \n",
      " lstm_1 (LSTM)               (None, 64)                49408     \n",
      "                                                                 \n",
      " dropout_1 (Dropout)         (None, 64)                0         \n",
      "                                                                 \n",
      " dense (Dense)               (None, 1)                 65        \n",
      "                                                                 \n",
      "=================================================================\n",
      "Total params: 116,033\n",
      "Trainable params: 116,033\n",
      "Non-trainable params: 0\n",
      "_________________________________________________________________\n"
     ]
    }
   ],
   "source": [
    "model = Sequential()\n",
    "model.add(LSTM(units=128, activation='tanh', return_sequences=True, input_shape=(trainX.shape[1], trainX.shape[2])))\n",
    "model.add(Dropout(0.2))\n",
    "model.add(LSTM(units=64,input_shape=(trainX.shape[1], trainX.shape[2])))\n",
    "model.add(Dropout(0.2))\n",
    "model.add(Dense(units=1))\n",
    "model.summary()"
   ]
  },
  {
   "cell_type": "code",
   "execution_count": 15,
   "metadata": {},
   "outputs": [],
   "source": [
    "model.compile(optimizer='adam', loss='mean_squared_error')"
   ]
  },
  {
   "cell_type": "code",
   "execution_count": 16,
   "metadata": {},
   "outputs": [],
   "source": [
    "checkpoint_path = 'my_best_model.hdf5'"
   ]
  },
  {
   "cell_type": "code",
   "execution_count": 17,
   "metadata": {},
   "outputs": [],
   "source": [
    "checkpoint = ModelCheckpoint(filepath=checkpoint_path,\n",
    "                             monitor='val_loss',\n",
    "                             verbose=1,\n",
    "                             save_best_only=True,\n",
    "                             mode='min')"
   ]
  },
  {
   "cell_type": "code",
   "execution_count": 18,
   "metadata": {},
   "outputs": [],
   "source": [
    "earlystopping = EarlyStopping(monitor='val_loss', patience=50, restore_best_weights=True)"
   ]
  },
  {
   "cell_type": "code",
   "execution_count": 19,
   "metadata": {},
   "outputs": [],
   "source": [
    "callbacks = [checkpoint, earlystopping]"
   ]
  },
  {
   "cell_type": "code",
   "execution_count": null,
   "metadata": {},
   "outputs": [
    {
     "name": "stdout",
     "output_type": "stream",
     "text": [
      "Epoch 1/300\n",
      "102/103 [============================>.] - ETA: 0s - loss: 0.0067\n",
      "Epoch 1: val_loss improved from inf to 0.00079, saving model to my_best_model.hdf5\n",
      "103/103 [==============================] - 5s 16ms/step - loss: 0.0067 - val_loss: 7.8663e-04\n",
      "Epoch 2/300\n",
      " 99/103 [===========================>..] - ETA: 0s - loss: 7.3025e-04\n",
      "Epoch 2: val_loss improved from 0.00079 to 0.00075, saving model to my_best_model.hdf5\n",
      "103/103 [==============================] - 1s 7ms/step - loss: 7.2965e-04 - val_loss: 7.5126e-04\n",
      "Epoch 3/300\n",
      "100/103 [============================>.] - ETA: 0s - loss: 6.4783e-04\n",
      "Epoch 3: val_loss improved from 0.00075 to 0.00071, saving model to my_best_model.hdf5\n",
      "103/103 [==============================] - 1s 7ms/step - loss: 6.4702e-04 - val_loss: 7.0594e-04\n",
      "Epoch 4/300\n",
      " 99/103 [===========================>..] - ETA: 0s - loss: 7.1119e-04\n",
      "Epoch 4: val_loss did not improve from 0.00071\n",
      "103/103 [==============================] - 1s 7ms/step - loss: 7.1176e-04 - val_loss: 0.0011\n",
      "Epoch 5/300\n",
      " 99/103 [===========================>..] - ETA: 0s - loss: 5.5847e-04\n",
      "Epoch 5: val_loss improved from 0.00071 to 0.00070, saving model to my_best_model.hdf5\n",
      "103/103 [==============================] - 1s 7ms/step - loss: 5.5717e-04 - val_loss: 7.0247e-04\n",
      "Epoch 6/300\n",
      " 99/103 [===========================>..] - ETA: 0s - loss: 5.6200e-04\n",
      "Epoch 6: val_loss did not improve from 0.00070\n",
      "103/103 [==============================] - 1s 7ms/step - loss: 5.7382e-04 - val_loss: 0.0015\n",
      "Epoch 7/300\n",
      " 99/103 [===========================>..] - ETA: 0s - loss: 6.1602e-04\n",
      "Epoch 7: val_loss did not improve from 0.00070\n",
      "103/103 [==============================] - 1s 7ms/step - loss: 6.1743e-04 - val_loss: 0.0010\n",
      "Epoch 8/300\n",
      " 51/103 [=============>................] - ETA: 0s - loss: 6.3675e-04"
     ]
    }
   ],
   "source": [
    "history = model.fit(trainX, trainY, batch_size=32, epochs=300, verbose=1, shuffle=True, validation_data=(testX, testY),\n",
    "                    callbacks=callbacks)"
   ]
  },
  {
   "cell_type": "code",
   "execution_count": null,
   "metadata": {},
   "outputs": [],
   "source": [
    "model_from_saved_checkpoint = load_model(checkpoint_path)"
   ]
  },
  {
   "cell_type": "code",
   "execution_count": null,
   "metadata": {},
   "outputs": [],
   "source": [
    "plt.figure(figsize=(16, 7))\n",
    "plt.plot(history.history['loss'], label='train')"
   ]
  },
  {
   "cell_type": "code",
   "execution_count": null,
   "metadata": {},
   "outputs": [],
   "source": [
    "plt.plot(history.history['val_loss'], label='test')\n",
    "plt.legend()\n",
    "plt.show()"
   ]
  },
  {
   "cell_type": "code",
   "execution_count": null,
   "metadata": {},
   "outputs": [],
   "source": [
    "predicted_dolar_price_train_data = model_from_saved_checkpoint.predict(trainX)"
   ]
  },
  {
   "cell_type": "code",
   "execution_count": null,
   "metadata": {},
   "outputs": [],
   "source": [
    "predicted_dolar_price_train_data = scaler_train.inverse_transform(predicted_dolar_price_train_data.reshape(-1, 1))"
   ]
  },
  {
   "cell_type": "code",
   "execution_count": null,
   "metadata": {},
   "outputs": [],
   "source": [
    "train_actual = scaler_train.inverse_transform(trainY.reshape(-1, 1))"
   ]
  },
  {
   "cell_type": "code",
   "execution_count": null,
   "metadata": {},
   "outputs": [],
   "source": [
    "plt.figure(figsize=(16, 7))"
   ]
  },
  {
   "cell_type": "code",
   "execution_count": null,
   "metadata": {},
   "outputs": [],
   "source": [
    "plt.plot(predicted_dolar_price_train_data, 'r', label='Education Estimated Price', linewidth=\"1\")"
   ]
  },
  {
   "cell_type": "code",
   "execution_count": null,
   "metadata": {},
   "outputs": [],
   "source": [
    "plt.plot(train_actual, label='Real Price', linewidth=\"1\")"
   ]
  },
  {
   "cell_type": "code",
   "execution_count": null,
   "metadata": {},
   "outputs": [],
   "source": [
    "plt.legend()\n",
    "plt.show()"
   ]
  },
  {
   "cell_type": "code",
   "execution_count": null,
   "metadata": {},
   "outputs": [],
   "source": [
    "predicted_dolar_price_test_data = model_from_saved_checkpoint.predict(testX)"
   ]
  },
  {
   "cell_type": "code",
   "execution_count": null,
   "metadata": {},
   "outputs": [],
   "source": [
    "predicted_dolar_price_test_data = scaler_test.inverse_transform(predicted_dolar_price_test_data.reshape(-1, 1))"
   ]
  },
  {
   "cell_type": "code",
   "execution_count": null,
   "metadata": {},
   "outputs": [],
   "source": [
    "test_actual = scaler_test.inverse_transform(testY.reshape(-1, 1))"
   ]
  },
  {
   "cell_type": "markdown",
   "metadata": {},
   "source": [
    "-------------------------------------------------------"
   ]
  },
  {
   "cell_type": "code",
   "execution_count": null,
   "metadata": {},
   "outputs": [],
   "source": [
    "plt.figure(figsize=(16, 7))"
   ]
  },
  {
   "cell_type": "code",
   "execution_count": null,
   "metadata": {},
   "outputs": [],
   "source": [
    "plt.plot(predicted_dolar_price_test_data, 'r', label='Estimated Price of Test', linewidth=\"0.4\")\n",
    "plt.plot(test_actual, label='Real Price', linewidth=\"0.4\")\n",
    "plt.legend()\n",
    "plt.show()"
   ]
  },
  {
   "cell_type": "code",
   "execution_count": null,
   "metadata": {},
   "outputs": [],
   "source": [
    "lookback_period = 15"
   ]
  },
  {
   "cell_type": "code",
   "execution_count": null,
   "metadata": {},
   "outputs": [],
   "source": [
    "testX_last_5_day = testX[testX.shape[0] - lookback_period:]"
   ]
  },
  {
   "cell_type": "code",
   "execution_count": null,
   "metadata": {},
   "outputs": [],
   "source": [
    "predicted_5_days_forecast_price_test_x = []"
   ]
  },
  {
   "cell_type": "code",
   "execution_count": null,
   "metadata": {},
   "outputs": [],
   "source": [
    "for i in range(15):\n",
    "    predicted_forecast_price_test_x = model_from_saved_checkpoint.predict(testX_last_5_day[i:i + 1])\n",
    "    predicted_forecast_price_test_x = scaler_test.inverse_transform(predicted_forecast_price_test_x.reshape(-1, 1))\n",
    "    predicted_5_days_forecast_price_test_x.append(predicted_forecast_price_test_x)"
   ]
  },
  {
   "cell_type": "code",
   "execution_count": null,
   "metadata": {},
   "outputs": [],
   "source": [
    "predicted_5_days_forecast_price_test_x = np.array(predicted_5_days_forecast_price_test_x)"
   ]
  },
  {
   "cell_type": "code",
   "execution_count": null,
   "metadata": {},
   "outputs": [],
   "source": [
    "predicted_5_days_forecast_price_test_x = predicted_5_days_forecast_price_test_x.flatten()"
   ]
  },
  {
   "cell_type": "code",
   "execution_count": null,
   "metadata": {},
   "outputs": [],
   "source": [
    "predicted_dolar_price_test_data = predicted_dolar_price_test_data.flatten()"
   ]
  },
  {
   "cell_type": "code",
   "execution_count": null,
   "metadata": {},
   "outputs": [],
   "source": [
    "predicted_dolar_test_concatenate = np.concatenate(\n",
    "    (predicted_dolar_price_test_data, predicted_5_days_forecast_price_test_x))"
   ]
  },
  {
   "cell_type": "markdown",
   "metadata": {},
   "source": [
    "----------------------------------------------------------------------------"
   ]
  },
  {
   "cell_type": "code",
   "execution_count": null,
   "metadata": {},
   "outputs": [],
   "source": [
    "plt.figure(figsize=(16, 7))\n",
    "plt.plot(predicted_dolar_test_concatenate, 'r', marker='.', label=\"Estimated Price\", linewidth=\"0.8\", alpha=1)\n",
    "plt.plot(test_actual, label=\"Real Price\", marker='.', linewidth=\"0.8\")\n",
    "plt.legend()\n",
    "plt.show()"
   ]
  },
  {
   "cell_type": "code",
   "execution_count": null,
   "metadata": {},
   "outputs": [],
   "source": [
    "rmse_lstm_test = math.sqrt(mean_squared_error(test_actual, predicted_dolar_price_test_data))\n",
    "print('Test RMSE: %.3f' % rmse_lstm_test)"
   ]
  },
  {
   "cell_type": "code",
   "execution_count": null,
   "metadata": {},
   "outputs": [],
   "source": [
    "rmse_lstm_train = math.sqrt(mean_squared_error(train_actual, predicted_dolar_price_train_data))"
   ]
  },
  {
   "cell_type": "code",
   "execution_count": null,
   "metadata": {},
   "outputs": [],
   "source": [
    "print('Train RMSE: %.3f' % rmse_lstm_train)"
   ]
  }
 ],
 "metadata": {
  "kernelspec": {
   "display_name": "Python 3 (ipykernel)",
   "language": "python",
   "name": "python3"
  },
  "language_info": {
   "codemirror_mode": {
    "name": "ipython",
    "version": 3
   },
   "file_extension": ".py",
   "mimetype": "text/x-python",
   "name": "python",
   "nbconvert_exporter": "python",
   "pygments_lexer": "ipython3",
   "version": "3.9.15"
  }
 },
 "nbformat": 4,
 "nbformat_minor": 2
}
